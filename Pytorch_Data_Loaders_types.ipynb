{
  "nbformat": 4,
  "nbformat_minor": 0,
  "metadata": {
    "colab": {
      "name": "Pytorch Data Loaders types",
      "provenance": [],
      "include_colab_link": true
    },
    "kernelspec": {
      "name": "python3",
      "display_name": "Python 3"
    }
  },
  "cells": [
    {
      "cell_type": "markdown",
      "metadata": {
        "id": "view-in-github",
        "colab_type": "text"
      },
      "source": [
        "<a href=\"https://colab.research.google.com/github/MicroprocessorX069/Pytorch-dataloader-types/blob/master/Pytorch_Data_Loaders_types.ipynb\" target=\"_parent\"><img src=\"https://colab.research.google.com/assets/colab-badge.svg\" alt=\"Open In Colab\"/></a>"
      ]
    },
    {
      "cell_type": "markdown",
      "metadata": {
        "id": "MiJz-K0B24qg",
        "colab_type": "text"
      },
      "source": [
        "##Basic imports"
      ]
    },
    {
      "cell_type": "code",
      "metadata": {
        "id": "Vn9yLwGG24aA",
        "colab_type": "code",
        "colab": {}
      },
      "source": [
        "import torch \n",
        "import torchvision\n",
        "from torch import nn, optim\n",
        "from torch.autograd.variable import Variable\n",
        "from torchvision import transforms, datasets\n",
        "import os\n",
        "from PIL import Image\n",
        "import glob\n",
        "import PIL\n",
        "from PIL import ImageFont\n",
        "from PIL import Image\n",
        "from PIL import ImageDraw\n",
        "import matplotlib.pyplot as plt\n",
        "import random\n",
        "from bokeh.io import curdoc, show, output_notebook\n",
        "from bokeh.layouts import column\n",
        "from bokeh.models import ColumnDataSource\n",
        "from bokeh.plotting import figure\n",
        "from functools import partial\n",
        "from threading import Thread\n",
        "from tornado import gen\n",
        "import numpy as np\n",
        "\n",
        "def imshow(img):\n",
        "    img = img / 2 + 0.5     # unnormalize\n",
        "    npimg = img.numpy()\n",
        "    plt.imshow(np.transpose(npimg, (1, 2, 0)))\n",
        "    plt.show()"
      ],
      "execution_count": 0,
      "outputs": []
    },
    {
      "cell_type": "markdown",
      "metadata": {
        "id": "gKMJgp3L1nkL",
        "colab_type": "text"
      },
      "source": [
        "##MNIST"
      ]
    },
    {
      "cell_type": "code",
      "metadata": {
        "id": "znj5sCrX1lB3",
        "colab_type": "code",
        "colab": {}
      },
      "source": [
        ""
      ],
      "execution_count": 0,
      "outputs": []
    },
    {
      "cell_type": "markdown",
      "metadata": {
        "id": "67jKD90s1t19",
        "colab_type": "text"
      },
      "source": [
        "##CIFAR 10"
      ]
    },
    {
      "cell_type": "code",
      "metadata": {
        "id": "XztmV3ye1wL6",
        "colab_type": "code",
        "colab": {
          "base_uri": "https://localhost:8080/",
          "height": 85
        },
        "outputId": "8ecb536c-74c6-49d6-8f5a-6894b2d9c1f9"
      },
      "source": [
        "transform = transforms.Compose(\n",
        "    [transforms.ToTensor(),\n",
        "     transforms.Normalize((0.5, 0.5, 0.5), (0.5, 0.5, 0.5))])\n",
        "\n",
        "trainset = torchvision.datasets.CIFAR10(root='./data', train=True,\n",
        "                                        download=True, transform=transform)\n",
        "trainloader = torch.utils.data.DataLoader(trainset, batch_size=4,\n",
        "                                          shuffle=True, num_workers=2)\n",
        "\n",
        "testset = torchvision.datasets.CIFAR10(root='./data', train=False,\n",
        "                                       download=True, transform=transform)\n",
        "testloader = torch.utils.data.DataLoader(testset, batch_size=4,\n",
        "                                         shuffle=False, num_workers=2)\n",
        "\n",
        "classes = ('plane', 'car', 'bird', 'cat',\n",
        "           'deer', 'dog', 'frog', 'horse', 'ship', 'truck')"
      ],
      "execution_count": 5,
      "outputs": [
        {
          "output_type": "stream",
          "text": [
            "  0%|          | 0/170498071 [00:00<?, ?it/s]"
          ],
          "name": "stderr"
        },
        {
          "output_type": "stream",
          "text": [
            "Downloading https://www.cs.toronto.edu/~kriz/cifar-10-python.tar.gz to ./data/cifar-10-python.tar.gz\n"
          ],
          "name": "stdout"
        },
        {
          "output_type": "stream",
          "text": [
            "170500096it [00:02, 69944488.26it/s]                               \n"
          ],
          "name": "stderr"
        },
        {
          "output_type": "stream",
          "text": [
            "Extracting ./data/cifar-10-python.tar.gz to ./data\n",
            "Files already downloaded and verified\n"
          ],
          "name": "stdout"
        }
      ]
    },
    {
      "cell_type": "code",
      "metadata": {
        "id": "vkB_Q3av3OfD",
        "colab_type": "code",
        "colab": {
          "base_uri": "https://localhost:8080/",
          "height": 156
        },
        "outputId": "600cb2d6-a4d3-43b7-ad04-a492dec1046d"
      },
      "source": [
        "print(\"Size of train set\",len(trainloader))\n",
        "print(\"Size of train set\",len(testloader))\n",
        "\n",
        "\n",
        "\n",
        "# get some random training images\n",
        "dataiter = iter(trainloader)\n",
        "images, labels = dataiter.next()\n",
        "\n",
        "# show images\n",
        "imshow(torchvision.utils.make_grid(images))\n",
        "# print labels\n",
        "print(' '.join('%5s' % classes[labels[j]] for j in range(4)))\n"
      ],
      "execution_count": 9,
      "outputs": [
        {
          "output_type": "display_data",
          "data": {
            "image/png": "[encoded data removed]",
            "text/plain": [
              "<Figure size 432x288 with 1 Axes>"
            ]
          },
          "metadata": {
            "tags": []
          }
        },
        {
          "output_type": "stream",
          "text": [
            "  cat truck   dog   cat\n"
          ],
          "name": "stdout"
        }
      ]
    },
    {
      "cell_type": "markdown",
      "metadata": {
        "id": "wm03I1er1yeu",
        "colab_type": "text"
      },
      "source": [
        "##Custom Data loader template "
      ]
    },
    {
      "cell_type": "code",
      "metadata": {
        "id": "jY9R54zv15wJ",
        "colab_type": "code",
        "colab": {}
      },
      "source": [
        ""
      ],
      "execution_count": 0,
      "outputs": []
    },
    {
      "cell_type": "markdown",
      "metadata": {
        "id": "zLCxgfxB16P8",
        "colab_type": "text"
      },
      "source": [
        "##Pair wise image mapping Data loader\n",
        "Images with same label in two folder train A and train B"
      ]
    },
    {
      "cell_type": "code",
      "metadata": {
        "id": "r6g8HEVo2DuC",
        "colab_type": "code",
        "colab": {}
      },
      "source": [
        ""
      ],
      "execution_count": 0,
      "outputs": []
    },
    {
      "cell_type": "markdown",
      "metadata": {
        "id": "zVJ9TJqK2EHy",
        "colab_type": "text"
      },
      "source": [
        "##Pair wise image mapping Data loader with one OCR image and a text generated image\n",
        "Image with label in folder train. Pair image generated using label"
      ]
    },
    {
      "cell_type": "code",
      "metadata": {
        "id": "d41yOHVG5KWu",
        "colab_type": "code",
        "colab": {}
      },
      "source": [
        "class localImageDataset(torch.utils.data.Dataset):\n",
        "  def __init__(self,data_dir,inp_width, inp_height, inp_channels):\n",
        "    #Image list in the folder data\n",
        "    self.data_dir=data_dir\n",
        "    self.inp_width=inp_width\n",
        "    self.inp_height=inp_height\n",
        "    self.inp_channels=inp_channels\n",
        "    \n",
        "    self.image_list = []\n",
        "    for filename in glob.glob('data/*.jpg'):\n",
        "        self.image_list.append(filename)\n",
        "        \n",
        "    #image transformations from 1920x1280 to 240x160\n",
        "    self.data_transform=transforms.Compose([\n",
        "        transforms.Resize(size=160, interpolation=2),\n",
        "        transforms.RandomResizedCrop((160,240)),\n",
        "        transforms.ToTensor(),\n",
        "        transforms.Normalize([0.485,0.486,0.406],[0.229,0.224,0.225])\n",
        "    ])\n",
        "    \n",
        "  def __getitem__(self,index):\n",
        "    \n",
        "    #reading the images nad label as filenames\n",
        "    image=Image.open(self.image_list[index])\n",
        "    label=os.path.splitext(self.image_list[index])[0][5:]\n",
        "    \n",
        "    #Synthetic paired image\n",
        "    font = ImageFont.load_default().font\n",
        "    font = ImageFont.truetype(\"C:/Windows/Fonts/ARLRDBD.ttf\",190)\n",
        "    img=Image.new(\"RGB\", (self.inp_width,self.inp_height),(0,0,0))\n",
        "    draw = ImageDraw.Draw(img)\n",
        "    text_strtPt=(random.randint(300,500),random.randint(500,750))\n",
        "    draw.text(text_strtPt,label,(255,255,255),font=font)\n",
        "    draw = ImageDraw.Draw(img)\n",
        "    \n",
        "    #Transforming the data\n",
        "    image=self.data_transform(image)\n",
        "    syn_image=self.data_transform(img)\n",
        "    \n",
        "    #print(image.size)\n",
        "    #returning a data pair ( image,label)\n",
        "    return image,syn_image\n",
        "  \n",
        "  def __len__(self):\n",
        "    return len(self.image_list)\n"
      ],
      "execution_count": 0,
      "outputs": []
    }
  ]
}